{
 "cells": [
  {
   "cell_type": "code",
   "execution_count": 1,
   "metadata": {},
   "outputs": [],
   "source": [
    "from IPython.core.display import clear_output\n",
    "from urllib.request import urlretrieve\n",
    "import urllib\n",
    "import ftplib\n",
    "import zipfile\n",
    "import os"
   ]
  },
  {
   "cell_type": "code",
   "execution_count": 2,
   "metadata": {},
   "outputs": [],
   "source": [
    "import socket\n",
    "\n",
    "# timeout in seconds\n",
    "timeout = 10\n",
    "socket.setdefaulttimeout(timeout)"
   ]
  },
  {
   "cell_type": "code",
   "execution_count": 3,
   "metadata": {},
   "outputs": [],
   "source": [
    "host = 'ftp.epa.gov'\n",
    "host_dir = '/dmdnload/emissions/hourly/monthly'"
   ]
  },
  {
   "cell_type": "code",
   "execution_count": 4,
   "metadata": {},
   "outputs": [],
   "source": [
    "#state = 'ks' # AR next\n",
    "states = ['ia'] #['me', 'mi', 'mn', 'mo', 'ms', 'mt', 'nc', 'nd', 'ne', 'nh', 'nj', 'nm', 'nv', 'ny', 'oh', \n",
    "         # 'ok', 'or', 'pa', 'ri', 'sc', 'sd', 'tn', 'tx', 'ut', 'va', 'vt', 'wa', 'wi', 'wv', 'wy' ]"
   ]
  },
  {
   "cell_type": "code",
   "execution_count": 5,
   "metadata": {},
   "outputs": [
    {
     "name": "stdout",
     "output_type": "stream",
     "text": [
      "\n",
      " Processing year 2017\n",
      "Retrieving 2017ia01.zip\n",
      "Extracted file to: H:\\Outage\\IA\\2017ia01.csv\n",
      "Retrieving 2017ia02.zip\n",
      "Extracted file to: H:\\Outage\\IA\\2017ia02.csv\n",
      "Retrieving 2017ia03.zip\n",
      "Extracted file to: H:\\Outage\\IA\\2017ia03.csv\n",
      "Retrieving 2017ia04.zip\n",
      "Extracted file to: H:\\Outage\\IA\\2017ia04.csv\n",
      "Retrieving 2017ia05.zip\n",
      "Extracted file to: H:\\Outage\\IA\\2017ia05.csv\n",
      "Retrieving 2017ia06.zip\n",
      "Extracted file to: H:\\Outage\\IA\\2017ia06.csv\n",
      "Retrieving 2017ia07.zip\n",
      "Extracted file to: H:\\Outage\\IA\\2017ia07.csv\n",
      "Retrieving 2017ia08.zip\n",
      "Extracted file to: H:\\Outage\\IA\\2017ia08.csv\n",
      "Retrieving 2017ia09.zip\n",
      "Extracted file to: H:\\Outage\\IA\\2017ia09.csv\n",
      "Done retrieving data for ia\n",
      "\n"
     ]
    }
   ],
   "source": [
    "for state in states:\n",
    "    local_dir = 'H:'+os.sep+'Outage' + os.sep+ state.upper() +os.sep\n",
    "\n",
    "    ftp = ftplib.FTP(host)\n",
    "    ftp.login()\n",
    "    ftp.cwd(host_dir)\n",
    "\n",
    "    years = ftp.nlst()\n",
    "    #years = range(2012,2018,1)\n",
    "    for year in years:\n",
    "        year = str(year)\n",
    "        clear_output()\n",
    "        print('------------------------Processing year ' + year)\n",
    "        ftp.cwd(year)\n",
    "        files = [s for s in ftp.nlst() if state in s]\n",
    "        for file in files:\n",
    "            file_url = host + host_dir + '/' + year +'/'+file\n",
    "            print('Retrieving ' + file)\n",
    "            \n",
    "            fetching_flag = True\n",
    "            while fetching_flag:\n",
    "                try:\n",
    "                    header = urlretrieve('ftp://'+file_url)\n",
    "                    zf = zipfile.ZipFile(header[0])\n",
    "                    destination = zf.extract(zf.infolist()[0], local_dir)\n",
    "                    print('Extracted file to: ' + destination)\n",
    "                    fetching_flag = False\n",
    "                except:\n",
    "                    print('Time out error. Retry')\n",
    "\n",
    "        ftp.cwd('..')\n",
    "\n",
    "\n",
    "    print('Done retrieving data for '+ state.upper() +'\\n')"
   ]
  },
  {
   "cell_type": "code",
   "execution_count": null,
   "metadata": {},
   "outputs": [],
   "source": []
  }
 ],
 "metadata": {
  "hide_input": false,
  "kernelspec": {
   "display_name": "Python 3",
   "language": "python",
   "name": "python3"
  },
  "language_info": {
   "codemirror_mode": {
    "name": "ipython",
    "version": 3
   },
   "file_extension": ".py",
   "mimetype": "text/x-python",
   "name": "python",
   "nbconvert_exporter": "python",
   "pygments_lexer": "ipython3",
   "version": "3.5.3"
  }
 },
 "nbformat": 4,
 "nbformat_minor": 2
}
